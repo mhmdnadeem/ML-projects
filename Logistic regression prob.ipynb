{
 "cells": [
  {
   "cell_type": "code",
   "execution_count": null,
   "metadata": {},
   "outputs": [],
   "source": [
    "#not mandatory to have continous variables\n",
    "#complute the probability for each customer for churn\n",
    "#multiple class variables to seperate variable with get dummies\n"
   ]
  },
  {
   "cell_type": "code",
   "execution_count": 1,
   "metadata": {},
   "outputs": [],
   "source": [
    "import pandas as pd\n",
    "import numpy as np\n",
    "df=pd.read_csv(\"Base_dataset.csv\")\n",
    "#X1 is the dependent variable \n"
   ]
  },
  {
   "cell_type": "code",
   "execution_count": 3,
   "metadata": {},
   "outputs": [
    {
     "data": {
      "text/html": [
       "<div>\n",
       "<style scoped>\n",
       "    .dataframe tbody tr th:only-of-type {\n",
       "        vertical-align: middle;\n",
       "    }\n",
       "\n",
       "    .dataframe tbody tr th {\n",
       "        vertical-align: top;\n",
       "    }\n",
       "\n",
       "    .dataframe thead th {\n",
       "        text-align: right;\n",
       "    }\n",
       "</style>\n",
       "<table border=\"1\" class=\"dataframe\">\n",
       "  <thead>\n",
       "    <tr style=\"text-align: right;\">\n",
       "      <th></th>\n",
       "      <th>Panel ID</th>\n",
       "      <th>X1</th>\n",
       "      <th>X2</th>\n",
       "      <th>X3</th>\n",
       "      <th>X4</th>\n",
       "      <th>X5</th>\n",
       "      <th>X6</th>\n",
       "      <th>X7</th>\n",
       "      <th>X8</th>\n",
       "      <th>X9</th>\n",
       "      <th>...</th>\n",
       "      <th>X53</th>\n",
       "      <th>X54</th>\n",
       "      <th>X55</th>\n",
       "      <th>X56</th>\n",
       "      <th>X57</th>\n",
       "      <th>X58</th>\n",
       "      <th>X59</th>\n",
       "      <th>X60</th>\n",
       "      <th>X61</th>\n",
       "      <th>X62</th>\n",
       "    </tr>\n",
       "  </thead>\n",
       "  <tbody>\n",
       "    <tr>\n",
       "      <th>0</th>\n",
       "      <td>1</td>\n",
       "      <td>2</td>\n",
       "      <td>2</td>\n",
       "      <td>1</td>\n",
       "      <td>2</td>\n",
       "      <td>2</td>\n",
       "      <td>2</td>\n",
       "      <td>2</td>\n",
       "      <td>2</td>\n",
       "      <td>2</td>\n",
       "      <td>...</td>\n",
       "      <td>4</td>\n",
       "      <td>4</td>\n",
       "      <td>3</td>\n",
       "      <td>4</td>\n",
       "      <td>4</td>\n",
       "      <td>4</td>\n",
       "      <td>4</td>\n",
       "      <td>4</td>\n",
       "      <td>4</td>\n",
       "      <td>3</td>\n",
       "    </tr>\n",
       "    <tr>\n",
       "      <th>1</th>\n",
       "      <td>2</td>\n",
       "      <td>1</td>\n",
       "      <td>1</td>\n",
       "      <td>2</td>\n",
       "      <td>1</td>\n",
       "      <td>2</td>\n",
       "      <td>1</td>\n",
       "      <td>2</td>\n",
       "      <td>2</td>\n",
       "      <td>2</td>\n",
       "      <td>...</td>\n",
       "      <td>3</td>\n",
       "      <td>4</td>\n",
       "      <td>4</td>\n",
       "      <td>3</td>\n",
       "      <td>4</td>\n",
       "      <td>4</td>\n",
       "      <td>4</td>\n",
       "      <td>3</td>\n",
       "      <td>4</td>\n",
       "      <td>4</td>\n",
       "    </tr>\n",
       "    <tr>\n",
       "      <th>2</th>\n",
       "      <td>3</td>\n",
       "      <td>2</td>\n",
       "      <td>2</td>\n",
       "      <td>1</td>\n",
       "      <td>1</td>\n",
       "      <td>2</td>\n",
       "      <td>2</td>\n",
       "      <td>1</td>\n",
       "      <td>2</td>\n",
       "      <td>2</td>\n",
       "      <td>...</td>\n",
       "      <td>5</td>\n",
       "      <td>5</td>\n",
       "      <td>5</td>\n",
       "      <td>4</td>\n",
       "      <td>5</td>\n",
       "      <td>4</td>\n",
       "      <td>5</td>\n",
       "      <td>4</td>\n",
       "      <td>3</td>\n",
       "      <td>5</td>\n",
       "    </tr>\n",
       "    <tr>\n",
       "      <th>3</th>\n",
       "      <td>4</td>\n",
       "      <td>1</td>\n",
       "      <td>1</td>\n",
       "      <td>1</td>\n",
       "      <td>1</td>\n",
       "      <td>2</td>\n",
       "      <td>1</td>\n",
       "      <td>1</td>\n",
       "      <td>1</td>\n",
       "      <td>1</td>\n",
       "      <td>...</td>\n",
       "      <td>5</td>\n",
       "      <td>4</td>\n",
       "      <td>3</td>\n",
       "      <td>5</td>\n",
       "      <td>4</td>\n",
       "      <td>3</td>\n",
       "      <td>3</td>\n",
       "      <td>3</td>\n",
       "      <td>2</td>\n",
       "      <td>4</td>\n",
       "    </tr>\n",
       "    <tr>\n",
       "      <th>4</th>\n",
       "      <td>5</td>\n",
       "      <td>1</td>\n",
       "      <td>1</td>\n",
       "      <td>1</td>\n",
       "      <td>1</td>\n",
       "      <td>1</td>\n",
       "      <td>1</td>\n",
       "      <td>1</td>\n",
       "      <td>1</td>\n",
       "      <td>1</td>\n",
       "      <td>...</td>\n",
       "      <td>4</td>\n",
       "      <td>5</td>\n",
       "      <td>4</td>\n",
       "      <td>4</td>\n",
       "      <td>3</td>\n",
       "      <td>3</td>\n",
       "      <td>4</td>\n",
       "      <td>1</td>\n",
       "      <td>1</td>\n",
       "      <td>3</td>\n",
       "    </tr>\n",
       "  </tbody>\n",
       "</table>\n",
       "<p>5 rows × 61 columns</p>\n",
       "</div>"
      ],
      "text/plain": [
       "   Panel ID  X1  X2  X3  X4  X5  X6  X7  X8  X9 ...   X53  X54  X55  X56  X57  \\\n",
       "0         1   2   2   1   2   2   2   2   2   2 ...     4    4    3    4    4   \n",
       "1         2   1   1   2   1   2   1   2   2   2 ...     3    4    4    3    4   \n",
       "2         3   2   2   1   1   2   2   1   2   2 ...     5    5    5    4    5   \n",
       "3         4   1   1   1   1   2   1   1   1   1 ...     5    4    3    5    4   \n",
       "4         5   1   1   1   1   1   1   1   1   1 ...     4    5    4    4    3   \n",
       "\n",
       "   X58  X59  X60  X61  X62  \n",
       "0    4    4    4    4    3  \n",
       "1    4    4    3    4    4  \n",
       "2    4    5    4    3    5  \n",
       "3    3    3    3    2    4  \n",
       "4    3    4    1    1    3  \n",
       "\n",
       "[5 rows x 61 columns]"
      ]
     },
     "execution_count": 3,
     "metadata": {},
     "output_type": "execute_result"
    }
   ],
   "source": [
    "df.head()"
   ]
  },
  {
   "cell_type": "code",
   "execution_count": 7,
   "metadata": {},
   "outputs": [],
   "source": [
    "df['X1']=df['X1'].replace([2,1],[1,0])"
   ]
  },
  {
   "cell_type": "code",
   "execution_count": 8,
   "metadata": {},
   "outputs": [],
   "source": [
    "y=df['X1']"
   ]
  },
  {
   "cell_type": "code",
   "execution_count": 11,
   "metadata": {},
   "outputs": [
    {
     "data": {
      "text/plain": [
       "0    1\n",
       "1    0\n",
       "2    1\n",
       "3    0\n",
       "4    0\n",
       "Name: X1, dtype: int64"
      ]
     },
     "execution_count": 11,
     "metadata": {},
     "output_type": "execute_result"
    }
   ],
   "source": [
    "y.head()"
   ]
  },
  {
   "cell_type": "code",
   "execution_count": 13,
   "metadata": {},
   "outputs": [],
   "source": [
    "x=df.drop([ 'Panel ID','X1'], axis=1)"
   ]
  },
  {
   "cell_type": "code",
   "execution_count": 14,
   "metadata": {},
   "outputs": [
    {
     "data": {
      "text/html": [
       "<div>\n",
       "<style scoped>\n",
       "    .dataframe tbody tr th:only-of-type {\n",
       "        vertical-align: middle;\n",
       "    }\n",
       "\n",
       "    .dataframe tbody tr th {\n",
       "        vertical-align: top;\n",
       "    }\n",
       "\n",
       "    .dataframe thead th {\n",
       "        text-align: right;\n",
       "    }\n",
       "</style>\n",
       "<table border=\"1\" class=\"dataframe\">\n",
       "  <thead>\n",
       "    <tr style=\"text-align: right;\">\n",
       "      <th></th>\n",
       "      <th>X2</th>\n",
       "      <th>X3</th>\n",
       "      <th>X4</th>\n",
       "      <th>X5</th>\n",
       "      <th>X6</th>\n",
       "      <th>X7</th>\n",
       "      <th>X8</th>\n",
       "      <th>X9</th>\n",
       "      <th>X10</th>\n",
       "      <th>X11</th>\n",
       "      <th>...</th>\n",
       "      <th>X53</th>\n",
       "      <th>X54</th>\n",
       "      <th>X55</th>\n",
       "      <th>X56</th>\n",
       "      <th>X57</th>\n",
       "      <th>X58</th>\n",
       "      <th>X59</th>\n",
       "      <th>X60</th>\n",
       "      <th>X61</th>\n",
       "      <th>X62</th>\n",
       "    </tr>\n",
       "  </thead>\n",
       "  <tbody>\n",
       "    <tr>\n",
       "      <th>0</th>\n",
       "      <td>2</td>\n",
       "      <td>1</td>\n",
       "      <td>2</td>\n",
       "      <td>2</td>\n",
       "      <td>2</td>\n",
       "      <td>2</td>\n",
       "      <td>2</td>\n",
       "      <td>2</td>\n",
       "      <td>2</td>\n",
       "      <td>2</td>\n",
       "      <td>...</td>\n",
       "      <td>4</td>\n",
       "      <td>4</td>\n",
       "      <td>3</td>\n",
       "      <td>4</td>\n",
       "      <td>4</td>\n",
       "      <td>4</td>\n",
       "      <td>4</td>\n",
       "      <td>4</td>\n",
       "      <td>4</td>\n",
       "      <td>3</td>\n",
       "    </tr>\n",
       "    <tr>\n",
       "      <th>1</th>\n",
       "      <td>1</td>\n",
       "      <td>2</td>\n",
       "      <td>1</td>\n",
       "      <td>2</td>\n",
       "      <td>1</td>\n",
       "      <td>2</td>\n",
       "      <td>2</td>\n",
       "      <td>2</td>\n",
       "      <td>1</td>\n",
       "      <td>2</td>\n",
       "      <td>...</td>\n",
       "      <td>3</td>\n",
       "      <td>4</td>\n",
       "      <td>4</td>\n",
       "      <td>3</td>\n",
       "      <td>4</td>\n",
       "      <td>4</td>\n",
       "      <td>4</td>\n",
       "      <td>3</td>\n",
       "      <td>4</td>\n",
       "      <td>4</td>\n",
       "    </tr>\n",
       "    <tr>\n",
       "      <th>2</th>\n",
       "      <td>2</td>\n",
       "      <td>1</td>\n",
       "      <td>1</td>\n",
       "      <td>2</td>\n",
       "      <td>2</td>\n",
       "      <td>1</td>\n",
       "      <td>2</td>\n",
       "      <td>2</td>\n",
       "      <td>1</td>\n",
       "      <td>1</td>\n",
       "      <td>...</td>\n",
       "      <td>5</td>\n",
       "      <td>5</td>\n",
       "      <td>5</td>\n",
       "      <td>4</td>\n",
       "      <td>5</td>\n",
       "      <td>4</td>\n",
       "      <td>5</td>\n",
       "      <td>4</td>\n",
       "      <td>3</td>\n",
       "      <td>5</td>\n",
       "    </tr>\n",
       "    <tr>\n",
       "      <th>3</th>\n",
       "      <td>1</td>\n",
       "      <td>1</td>\n",
       "      <td>1</td>\n",
       "      <td>2</td>\n",
       "      <td>1</td>\n",
       "      <td>1</td>\n",
       "      <td>1</td>\n",
       "      <td>1</td>\n",
       "      <td>1</td>\n",
       "      <td>1</td>\n",
       "      <td>...</td>\n",
       "      <td>5</td>\n",
       "      <td>4</td>\n",
       "      <td>3</td>\n",
       "      <td>5</td>\n",
       "      <td>4</td>\n",
       "      <td>3</td>\n",
       "      <td>3</td>\n",
       "      <td>3</td>\n",
       "      <td>2</td>\n",
       "      <td>4</td>\n",
       "    </tr>\n",
       "    <tr>\n",
       "      <th>4</th>\n",
       "      <td>1</td>\n",
       "      <td>1</td>\n",
       "      <td>1</td>\n",
       "      <td>1</td>\n",
       "      <td>1</td>\n",
       "      <td>1</td>\n",
       "      <td>1</td>\n",
       "      <td>1</td>\n",
       "      <td>1</td>\n",
       "      <td>2</td>\n",
       "      <td>...</td>\n",
       "      <td>4</td>\n",
       "      <td>5</td>\n",
       "      <td>4</td>\n",
       "      <td>4</td>\n",
       "      <td>3</td>\n",
       "      <td>3</td>\n",
       "      <td>4</td>\n",
       "      <td>1</td>\n",
       "      <td>1</td>\n",
       "      <td>3</td>\n",
       "    </tr>\n",
       "  </tbody>\n",
       "</table>\n",
       "<p>5 rows × 59 columns</p>\n",
       "</div>"
      ],
      "text/plain": [
       "   X2  X3  X4  X5  X6  X7  X8  X9  X10  X11 ...   X53  X54  X55  X56  X57  \\\n",
       "0   2   1   2   2   2   2   2   2    2    2 ...     4    4    3    4    4   \n",
       "1   1   2   1   2   1   2   2   2    1    2 ...     3    4    4    3    4   \n",
       "2   2   1   1   2   2   1   2   2    1    1 ...     5    5    5    4    5   \n",
       "3   1   1   1   2   1   1   1   1    1    1 ...     5    4    3    5    4   \n",
       "4   1   1   1   1   1   1   1   1    1    2 ...     4    5    4    4    3   \n",
       "\n",
       "   X58  X59  X60  X61  X62  \n",
       "0    4    4    4    4    3  \n",
       "1    4    4    3    4    4  \n",
       "2    4    5    4    3    5  \n",
       "3    3    3    3    2    4  \n",
       "4    3    4    1    1    3  \n",
       "\n",
       "[5 rows x 59 columns]"
      ]
     },
     "execution_count": 14,
     "metadata": {},
     "output_type": "execute_result"
    }
   ],
   "source": [
    "x.head()"
   ]
  },
  {
   "cell_type": "code",
   "execution_count": 42,
   "metadata": {},
   "outputs": [
    {
     "data": {
      "text/plain": [
       "(24114, 59)"
      ]
     },
     "execution_count": 42,
     "metadata": {},
     "output_type": "execute_result"
    }
   ],
   "source": [
    "x.shape"
   ]
  },
  {
   "cell_type": "code",
   "execution_count": 21,
   "metadata": {},
   "outputs": [],
   "source": [
    "from sklearn.model_selection import train_test_split\n",
    "from sklearn.metrics import classification_report\n",
    "from sklearn.metrics import confusion_matrix\n",
    "from sklearn.metrics import accuracy_score "
   ]
  },
  {
   "cell_type": "code",
   "execution_count": 22,
   "metadata": {},
   "outputs": [],
   "source": [
    "X_train, X_test, y_train, y_test = train_test_split(x, y, test_size=0.2, random_state=2)"
   ]
  },
  {
   "cell_type": "code",
   "execution_count": 23,
   "metadata": {},
   "outputs": [],
   "source": [
    "from sklearn.linear_model import LogisticRegression\n",
    "from sklearn import metrics"
   ]
  },
  {
   "cell_type": "code",
   "execution_count": 24,
   "metadata": {},
   "outputs": [],
   "source": [
    "logreg = LogisticRegression()\n",
    "lreg=logreg.fit(X_train, y_train)"
   ]
  },
  {
   "cell_type": "code",
   "execution_count": 25,
   "metadata": {},
   "outputs": [],
   "source": [
    "predi=lreg.predict(X_test)"
   ]
  },
  {
   "cell_type": "code",
   "execution_count": 80,
   "metadata": {},
   "outputs": [
    {
     "name": "stdout",
     "output_type": "stream",
     "text": [
      "Accuracy of logistic regression classifier on test set: 0.9017\n"
     ]
    },
    {
     "data": {
      "text/plain": [
       "0.9017209205888451"
      ]
     },
     "execution_count": 80,
     "metadata": {},
     "output_type": "execute_result"
    }
   ],
   "source": [
    "logic=(accuracy_score(y_test,predi))\n",
    "print('Accuracy of logistic regression classifier on test set: {:.4f}'.format(logreg.score(X_test, y_test)))\n",
    "logic"
   ]
  },
  {
   "cell_type": "code",
   "execution_count": 87,
   "metadata": {},
   "outputs": [
    {
     "name": "stdout",
     "output_type": "stream",
     "text": [
      "Confusion matrix of logistic regression classifier on test set:\n",
      "[[3850  145]\n",
      " [ 329  499]]\n"
     ]
    }
   ],
   "source": [
    "lo=confusion_matrix(y_test,predi)\n",
    "print('Confusion matrix of logistic regression classifier on test set:')\n",
    "print(lo)"
   ]
  },
  {
   "cell_type": "code",
   "execution_count": 28,
   "metadata": {},
   "outputs": [],
   "source": [
    "from IPython.core.interactiveshell import InteractiveShell\n",
    "InteractiveShell.ast_node_interactivity = \"all\""
   ]
  },
  {
   "cell_type": "code",
   "execution_count": 32,
   "metadata": {},
   "outputs": [
    {
     "name": "stdout",
     "output_type": "stream",
     "text": [
      "****** Confusion Matrix:Logistic regression********\n",
      "[[3850  329]\n",
      " [ 145  499]]\n"
     ]
    }
   ],
   "source": [
    "print('****** Confusion Matrix:Logistic regression********')\n",
    "print(confusion_matrix(predi,y_test))"
   ]
  },
  {
   "cell_type": "code",
   "execution_count": 37,
   "metadata": {},
   "outputs": [],
   "source": [
    "TP = lo[1, 1]\n",
    "TN = lo[0, 0]\n",
    "FP = lo[0, 1]\n",
    "FN = lo[1, 0]"
   ]
  },
  {
   "cell_type": "code",
   "execution_count": 38,
   "metadata": {},
   "outputs": [],
   "source": [
    "precision=(TP/(TP+FP))"
   ]
  },
  {
   "cell_type": "code",
   "execution_count": 39,
   "metadata": {},
   "outputs": [],
   "source": [
    "recall=(TP/(TP+FN))"
   ]
  },
  {
   "cell_type": "code",
   "execution_count": 40,
   "metadata": {},
   "outputs": [],
   "source": [
    "f1score=2*(recall*precision)/(recall+precision)"
   ]
  },
  {
   "cell_type": "code",
   "execution_count": 41,
   "metadata": {},
   "outputs": [
    {
     "name": "stdout",
     "output_type": "stream",
     "text": [
      "****** Confusion Matrix:Precision Score ********\n",
      "0.7748447204968945\n",
      "****** Confusion Matrix:Recall value ********\n",
      "0.6026570048309179\n",
      "****** Confusion Matrix:F1 Score ********\n",
      "0.6779891304347827\n"
     ]
    }
   ],
   "source": [
    "\n",
    "print('****** Confusion Matrix:Precision Score ********')\n",
    "print(precision)\n",
    "\n",
    "print('****** Confusion Matrix:Recall value ********')\n",
    "print(recall)\n",
    "\n",
    "print('****** Confusion Matrix:F1 Score ********')\n",
    "print(f1score)"
   ]
  },
  {
   "cell_type": "code",
   "execution_count": 67,
   "metadata": {},
   "outputs": [],
   "source": [
    "y_pred_prob=logreg.predict_proba(X_test)"
   ]
  },
  {
   "cell_type": "code",
   "execution_count": 73,
   "metadata": {},
   "outputs": [
    {
     "data": {
      "text/plain": [
       "array([[0.99176276, 0.00823724],\n",
       "       [0.9651841 , 0.0348159 ],\n",
       "       [0.91786339, 0.08213661],\n",
       "       ...,\n",
       "       [0.94796435, 0.05203565],\n",
       "       [0.96664127, 0.03335873],\n",
       "       [0.49418374, 0.50581626]])"
      ]
     },
     "execution_count": 73,
     "metadata": {},
     "output_type": "execute_result"
    }
   ],
   "source": [
    "y_pred_prob"
   ]
  },
  {
   "cell_type": "code",
   "execution_count": 49,
   "metadata": {},
   "outputs": [
    {
     "name": "stdout",
     "output_type": "stream",
     "text": [
      "             precision    recall  f1-score   support\n",
      "\n",
      "          0       0.92      0.96      0.94      3995\n",
      "          1       0.77      0.60      0.68       828\n",
      "\n",
      "avg / total       0.90      0.90      0.90      4823\n",
      "\n"
     ]
    }
   ],
   "source": [
    "from sklearn.metrics import classification_report\n",
    "print(classification_report(y_test,predi))"
   ]
  },
  {
   "cell_type": "code",
   "execution_count": 54,
   "metadata": {},
   "outputs": [
    {
     "data": {
      "text/plain": [
       "<matplotlib.figure.Figure at 0x1778d1a1ac8>"
      ]
     },
     "execution_count": 54,
     "metadata": {},
     "output_type": "execute_result"
    },
    {
     "data": {
      "text/plain": [
       "[<matplotlib.lines.Line2D at 0x1778d20b080>]"
      ]
     },
     "execution_count": 54,
     "metadata": {},
     "output_type": "execute_result"
    },
    {
     "data": {
      "text/plain": [
       "[<matplotlib.lines.Line2D at 0x1778d1ae4a8>]"
      ]
     },
     "execution_count": 54,
     "metadata": {},
     "output_type": "execute_result"
    },
    {
     "data": {
      "text/plain": [
       "(0.0, 1.0)"
      ]
     },
     "execution_count": 54,
     "metadata": {},
     "output_type": "execute_result"
    },
    {
     "data": {
      "text/plain": [
       "(0.0, 1.05)"
      ]
     },
     "execution_count": 54,
     "metadata": {},
     "output_type": "execute_result"
    },
    {
     "data": {
      "text/plain": [
       "Text(0.5,0,'False Positive Rate')"
      ]
     },
     "execution_count": 54,
     "metadata": {},
     "output_type": "execute_result"
    },
    {
     "data": {
      "text/plain": [
       "Text(0,0.5,'True Positive Rate')"
      ]
     },
     "execution_count": 54,
     "metadata": {},
     "output_type": "execute_result"
    },
    {
     "data": {
      "text/plain": [
       "Text(0.5,1,'Receiver operating characteristic')"
      ]
     },
     "execution_count": 54,
     "metadata": {},
     "output_type": "execute_result"
    },
    {
     "data": {
      "text/plain": [
       "<matplotlib.legend.Legend at 0x1778d20bda0>"
      ]
     },
     "execution_count": 54,
     "metadata": {},
     "output_type": "execute_result"
    },
    {
     "data": {
      "image/png": "[encoded data removed]",
      "text/plain": [
       "<matplotlib.figure.Figure at 0x1778d1a1ac8>"
      ]
     },
     "metadata": {},
     "output_type": "display_data"
    }
   ],
   "source": [
    "import matplotlib \n",
    "from matplotlib import pyplot as plt\n",
    "from sklearn.metrics import roc_auc_score\n",
    "from sklearn.metrics import roc_curve\n",
    "logit_roc_auc = roc_auc_score(y_test, logreg.predict(X_test))\n",
    "fpr, tpr, thresholds = roc_curve(y_test, logreg.predict_proba(X_test)[:,1])\n",
    "plt.figure()\n",
    "plt.plot(fpr, tpr, label='Logistic Regression (area = %0.2f)' % logit_roc_auc)\n",
    "plt.plot([0, 1], [0, 1],'r--')\n",
    "plt.xlim([0.0, 1.0])\n",
    "plt.ylim([0.0, 1.05])\n",
    "plt.xlabel('False Positive Rate')\n",
    "plt.ylabel('True Positive Rate')\n",
    "plt.title('Receiver operating characteristic')\n",
    "plt.legend(loc=\"lower right\")\n",
    "plt.savefig('Log_ROC')\n",
    "plt.show()"
   ]
  },
  {
   "cell_type": "code",
   "execution_count": 74,
   "metadata": {},
   "outputs": [
    {
     "name": "stdout",
     "output_type": "stream",
     "text": [
      "10-fold cross validation average accuracy: 0.895\n"
     ]
    }
   ],
   "source": [
    "from sklearn import model_selection\n",
    "from sklearn.model_selection import cross_val_score\n",
    "kfold = model_selection.KFold(n_splits=10, random_state=7)\n",
    "modelCV = LogisticRegression()\n",
    "scoring = 'accuracy'\n",
    "results = model_selection.cross_val_score(modelCV, X_train, y_train, cv=kfold, scoring=scoring)\n",
    "print(\"10-fold cross validation average accuracy: %.3f\" % (results.mean()))"
   ]
  },
  {
   "cell_type": "code",
   "execution_count": 89,
   "metadata": {},
   "outputs": [
    {
     "name": "stdout",
     "output_type": "stream",
     "text": [
      "Optimization terminated successfully.\n",
      "         Current function value: 0.285315\n",
      "         Iterations 7\n",
      "                           Logit Regression Results                           \n",
      "==============================================================================\n",
      "Dep. Variable:                     X1   No. Observations:                19291\n",
      "Model:                          Logit   Df Residuals:                    19232\n",
      "Method:                           MLE   Df Model:                           58\n",
      "Date:                Fri, 13 Jul 2018   Pseudo R-squ.:                  0.3884\n",
      "Time:                        11:52:34   Log-Likelihood:                -5504.0\n",
      "converged:                       True   LL-Null:                       -8999.9\n",
      "                                        LLR p-value:                     0.000\n",
      "==============================================================================\n",
      "                 coef    std err          z      P>|z|      [0.025      0.975]\n",
      "------------------------------------------------------------------------------\n",
      "X2             1.4286      0.066     21.602      0.000       1.299       1.558\n",
      "X3             1.2845      0.066     19.516      0.000       1.156       1.414\n",
      "X4             0.5124      0.076      6.707      0.000       0.363       0.662\n",
      "X5             0.7071      0.065     10.810      0.000       0.579       0.835\n",
      "X6             1.3582      0.067     20.239      0.000       1.227       1.490\n",
      "X7            -0.1548      0.093     -1.664      0.096      -0.337       0.028\n",
      "X8             0.6938      0.075      9.245      0.000       0.547       0.841\n",
      "X9            -0.2048      0.078     -2.634      0.008      -0.357      -0.052\n",
      "X10           -0.3636      0.071     -5.097      0.000      -0.503      -0.224\n",
      "X11           -0.2142      0.071     -3.018      0.003      -0.353      -0.075\n",
      "X12           -0.5664      0.078     -7.286      0.000      -0.719      -0.414\n",
      "X13           -0.4280      0.079     -5.411      0.000      -0.583      -0.273\n",
      "X14           -0.1686      0.070     -2.393      0.017      -0.307      -0.031\n",
      "X15            1.2914      0.075     17.205      0.000       1.144       1.439\n",
      "X16           -0.4071      0.080     -5.105      0.000      -0.563      -0.251\n",
      "X17           -0.2737      0.072     -3.790      0.000      -0.415      -0.132\n",
      "X18           -0.1558      0.074     -2.117      0.034      -0.300      -0.012\n",
      "X19           -0.5507      0.079     -7.006      0.000      -0.705      -0.397\n",
      "X20           -0.0859      0.079     -1.093      0.274      -0.240       0.068\n",
      "X21           -0.2068      0.076     -2.719      0.007      -0.356      -0.058\n",
      "X22           -0.2306      0.023    -10.206      0.000      -0.275      -0.186\n",
      "X23            0.0629      0.022      2.908      0.004       0.021       0.105\n",
      "X24            0.0250      0.020      1.244      0.214      -0.014       0.064\n",
      "X25            0.0140      0.020      0.689      0.491      -0.026       0.054\n",
      "X26           -0.0279      0.020     -1.377      0.169      -0.068       0.012\n",
      "X27            0.0616      0.022      2.845      0.004       0.019       0.104\n",
      "X28           -0.0137      0.016     -0.855      0.393      -0.045       0.018\n",
      "X29           -0.1637      0.022     -7.362      0.000      -0.207      -0.120\n",
      "X30            0.0193      0.021      0.912      0.362      -0.022       0.061\n",
      "X31            0.0114      0.018      0.623      0.533      -0.024       0.047\n",
      "X34           -0.0166      0.020     -0.825      0.410      -0.056       0.023\n",
      "X35            0.0445      0.018      2.540      0.011       0.010       0.079\n",
      "X36            0.0347      0.021      1.685      0.092      -0.006       0.075\n",
      "X37            0.0165      0.015      1.113      0.266      -0.013       0.046\n",
      "X38           -0.1190      0.021     -5.772      0.000      -0.159      -0.079\n",
      "X39            0.0294      0.025      1.156      0.248      -0.020       0.079\n",
      "X40           -0.0292      0.023     -1.245      0.213      -0.075       0.017\n",
      "X41           -0.0960      0.025     -3.906      0.000      -0.144      -0.048\n",
      "X42           -0.0040      0.031     -0.130      0.897      -0.065       0.057\n",
      "X43           -0.0076      0.028     -0.272      0.786      -0.062       0.047\n",
      "X44            0.0130      0.024      0.531      0.595      -0.035       0.061\n",
      "X45            0.0050      0.024      0.206      0.837      -0.043       0.053\n",
      "X46            0.0014      0.023      0.061      0.951      -0.044       0.047\n",
      "X47           -0.1906      0.025     -7.566      0.000      -0.240      -0.141\n",
      "X48           -0.0766      0.025     -3.077      0.002      -0.125      -0.028\n",
      "X49           -0.1110      0.027     -4.123      0.000      -0.164      -0.058\n",
      "X50           -0.0224      0.025     -0.897      0.370      -0.071       0.027\n",
      "X51           -0.0038      0.026     -0.147      0.883      -0.054       0.047\n",
      "X52            0.0217      0.024      0.921      0.357      -0.025       0.068\n",
      "X53           -0.1380      0.031     -4.425      0.000      -0.199      -0.077\n",
      "X54           -0.3443      0.032    -10.649      0.000      -0.408      -0.281\n",
      "X55           -0.0515      0.026     -1.950      0.051      -0.103       0.000\n",
      "X56           -0.0399      0.028     -1.446      0.148      -0.094       0.014\n",
      "X57           -0.0030      0.030     -0.102      0.919      -0.062       0.056\n",
      "X58            0.0861      0.030      2.913      0.004       0.028       0.144\n",
      "X59           -0.0195      0.026     -0.751      0.453      -0.070       0.031\n",
      "X60           -0.0257      0.025     -1.029      0.304      -0.075       0.023\n",
      "X61            0.0546      0.028      1.925      0.054      -0.001       0.110\n",
      "X62           -0.1122      0.027     -4.190      0.000      -0.165      -0.060\n",
      "==============================================================================\n"
     ]
    }
   ],
   "source": [
    "import statsmodels.api as sm\n",
    "logit_model=sm.Logit(y_train,X_train)\n",
    "result=logit_model.fit()\n",
    "\n",
    "print(result.summary())"
   ]
  },
  {
   "cell_type": "code",
   "execution_count": 103,
   "metadata": {},
   "outputs": [],
   "source": [
    "#to get the p values of insignificant variables\n",
    "insig=[]\n",
    "for col in X_train.columns:\n",
    "    if  result.pvalues[col] > 0.05 :\n",
    "            insig.append(col)\n",
    "        #print(col)\n",
    "        #print(lm.pvalues[col])\n"
   ]
  },
  {
   "cell_type": "code",
   "execution_count": 104,
   "metadata": {},
   "outputs": [
    {
     "data": {
      "text/plain": [
       "['X7',\n",
       " 'X20',\n",
       " 'X24',\n",
       " 'X25',\n",
       " 'X26',\n",
       " 'X28',\n",
       " 'X30',\n",
       " 'X31',\n",
       " 'X34',\n",
       " 'X36',\n",
       " 'X37',\n",
       " 'X39',\n",
       " 'X40',\n",
       " 'X42',\n",
       " 'X43',\n",
       " 'X44',\n",
       " 'X45',\n",
       " 'X46',\n",
       " 'X50',\n",
       " 'X51',\n",
       " 'X52',\n",
       " 'X55',\n",
       " 'X56',\n",
       " 'X57',\n",
       " 'X59',\n",
       " 'X60',\n",
       " 'X61']"
      ]
     },
     "execution_count": 104,
     "metadata": {},
     "output_type": "execute_result"
    }
   ],
   "source": [
    "insig"
   ]
  }
 ],
 "metadata": {
  "kernelspec": {
   "display_name": "Python 3",
   "language": "python",
   "name": "python3"
  },
  "language_info": {
   "codemirror_mode": {
    "name": "ipython",
    "version": 3
   },
   "file_extension": ".py",
   "mimetype": "text/x-python",
   "name": "python",
   "nbconvert_exporter": "python",
   "pygments_lexer": "ipython3",
   "version": "3.6.4"
  }
 },
 "nbformat": 4,
 "nbformat_minor": 2
}
